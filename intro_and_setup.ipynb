{
 "cells": [
  {
   "cell_type": "markdown",
   "metadata": {},
   "source": [
    "# Python Quickstart for ORF 409\n",
    "\n",
    "## What this document is\n",
    "\n",
    "The purpose of this interactive notebook is to show you how to use Python (i) to generate sets of random numbers drawn from different distributions and (ii) to perform aggregate operations on those random numbers (e.g. averages, sums, etc).  While it is possible to do these things using constructs that are of the Python standard library, it is more convenient. more compact, and more powerful to perform these tasks using NumPy, the standard Python package for numerical mathematical work.\n",
    "\n",
    "## What this document is not\n",
    "\n",
    "This notebook is **not** a complete introduction to Python or to NumPy or to programming in general, nor does it pretend to be.  When this notebook does discuss general features of Python or NumPy, it shows only a bare minimum, in the spirit of helping you avoid common syntactical or operational errors associated with tasks (i) and (ii) above.\n",
    "\n",
    "Since we're showing you just enough Python to do things for the course, you might end up with some misconceptions about how Python works if you make hasty generalizations from solely what is written here.  Buyer beware.  There's no substitute for actually understanding how a language works, so you are encouraged to consult resources below on your own time.\n",
    "\n",
    "## Further learning resources\n",
    "\n",
    "Students who would like a more comprehensive introduction to either Python or NumPy or both should consult the references below.  The Princeton Institute for Computational Science & Engineering (PICSciE) also offers instructor-led workshops on these topics during the semester.  More information, along with registration links, can be found at the [PICSciE training page](https://researchcomputing.princeton.edu/workshops).\n",
    "\n",
    "* [Python Getting Started Guide](https://www.python.org/about/gettingstarted/) -- contains links to sets of tutorials [for people completely new to programming](https://wiki.python.org/moin/BeginnersGuide/NonProgrammers) and tutorials [for those with more experience](https://wiki.python.org/moin/BeginnersGuide/Programmers)\n",
    "* [Absolute Beginner's Guide to NumPy](https://numpy.org/doc/stable/user/absolute_beginners.html)\n",
    "* [NumPy Quickstart](https://numpy.org/doc/stable/user/quickstart.html)\n"
   ]
  },
  {
   "cell_type": "markdown",
   "metadata": {},
   "source": [
    "## Setup instructions\n",
    "\n",
    "### Installing Python\n",
    "The easiest way to get a fairly up-to-date Python installation on your laptop (that also includes NumPy and Jupyter notebooks) is to install the Anaconda Python distribution.  It is free and available for all operating systems.  Instructions can be found at [https://docs.anaconda.com/anaconda/install/](https://docs.anaconda.com/anaconda/install/).\n",
    "\n",
    "**Make sure you are installing a version that includes Python 3, not Python 2!**"
   ]
  },
  {
   "cell_type": "markdown",
   "metadata": {},
   "source": [
    "### Jupyter notebook basics\n",
    "This notebook is designed to be run interactively.  You can run the cells in order as you hit them, and you'll see the output generated in a separate cell underneath.\n",
    "\n",
    "#### Markdown vs. Code cells\n",
    "This Jupyter notebook contains three main types of cells:  **markdown** cells (like the current cell, which just contains text); **code** cells (which have runnable Python code); and **output** cells (which will appear after you run  a code cell and will be labelled with a tag like \"Out\\[somenumber\\]\".\n",
    "\n",
    "You will only interactly directly with the code cells, in order to run the example code inside them, or use blank code cells to try some examples on your own.\n",
    "\n",
    "#### How to run a code cell\n",
    "While inside a cell, type `Shift + Enter` to run the code in that cell.\n",
    "\n",
    "#### What does vs doesn't get printed in output cells\n",
    "By default, in a Jupyter notebook, if the contents of a cell contain just the name of a Python variable, its value will be printed out in the output cell.  However, if a cell contains several such lines in sequence, only the final variable will be printed.  Thus, in some places, you will see us using explicit `print()` statements to force the printing of something we want to see.\n",
    "\n",
    "#### Resetting the notebook\n",
    "To clear all the output cells so that you can \"reset\" and run through this notebook later yourself, go to the \"Cell\" menu at the top --> \"All Ouptut\" --> \"Clear\".\n"
   ]
  }
 ],
 "metadata": {
  "kernelspec": {
   "display_name": "Python 3",
   "language": "python",
   "name": "python3"
  },
  "language_info": {
   "codemirror_mode": {
    "name": "ipython",
    "version": 3
   },
   "file_extension": ".py",
   "mimetype": "text/x-python",
   "name": "python",
   "nbconvert_exporter": "python",
   "pygments_lexer": "ipython3",
   "version": "3.8.3"
  }
 },
 "nbformat": 4,
 "nbformat_minor": 4
}
