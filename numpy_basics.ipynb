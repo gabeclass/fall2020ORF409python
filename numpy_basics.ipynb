{
 "cells": [
  {
   "cell_type": "markdown",
   "metadata": {},
   "source": [
    "## NumPy basics\n",
    "NumPy is what in Python is referred to as a **package** -- it is a module named `numpy` that, in addition to defining functions, data types, variables, etc, also defines a suite of useful **submodules**.  The main submodule we will use in this course is called `numpy.random`.\n",
    "\n",
    "Let's import NumPy and check its version (again, yours may be different. So long as you have anything above v1.14, you should be fine):"
   ]
  },
  {
   "cell_type": "code",
   "execution_count": null,
   "metadata": {},
   "outputs": [],
   "source": [
    "import numpy as np\n",
    "print(np.version.version)"
   ]
  },
  {
   "cell_type": "markdown",
   "metadata": {},
   "source": [
    "A comment -- notice the different version of this `import` statement.  All this means is \"import the `numpy` module, but for brevity, allow us to write `np` and remember that it's a shorthand for `numpy`).  Using `np` to abbreviate `numpy` is so common that it's become standard practice to write import statements like this.\n",
    "\n",
    "Apparently, `numpy` has a submodule called `version`, and that submodule contains a variable also called `version`, whose value we are printing in the second line. How did we know that the pertinent variable was living inside a submodule also called `version` as opposed to just living at the \"top level\" (like what we saw earlier in the case of the `sys` module)?  Experience.  You pick these things up and remember them the more you use Python.\n",
    "\n",
    "Our intro to NumPy will proceed in two steps.  First, we will walk through the basics of the NumPy `ndarray` (or just \"numpy array\" for short), a list-like container engineered to facilitate numerical computation.  Then, we will use NumPy arrays along with utility functions from the `numpy.random` module to illustrate some example calculations pertinent to the course."
   ]
  },
  {
   "cell_type": "markdown",
   "metadata": {},
   "source": [
    "### NumPy `ndarray`s\n",
    "\n",
    "#### Creating arrays\n",
    "\n",
    "`ndarray`s are often just called \"arrays\" for short.  The easiest way to make one is by passing a Python list to the `array()` constructor function:"
   ]
  },
  {
   "cell_type": "code",
   "execution_count": null,
   "metadata": {},
   "outputs": [],
   "source": [
    "myarr1 = np.array([20, 21, 22, 23, 24, 25, 26, 27, 28, 29, 30])\n",
    "print(myarr1)"
   ]
  },
  {
   "cell_type": "code",
   "execution_count": null,
   "metadata": {},
   "outputs": [],
   "source": [
    "# The output in the notebook may look like a list, but this isn't a vanilla Python list.\n",
    "# The `type` function (built into the Python language) reveals the data type of a Python object.\n",
    "print([0,1,2], type([0,1,2]))\n",
    "print(myarr1, type(myarr1))"
   ]
  },
  {
   "cell_type": "markdown",
   "metadata": {},
   "source": [
    "You can also feed arrays into `array()`, not just Python lists:"
   ]
  },
  {
   "cell_type": "code",
   "execution_count": null,
   "metadata": {},
   "outputs": [],
   "source": [
    "myarr2 = np.array(myarr1)\n",
    "print(myarr2, type(myarr2))"
   ]
  },
  {
   "cell_type": "markdown",
   "metadata": {},
   "source": [
    "#### Creating arrays without a prior list\n",
    "Numpy has a utility function `arange()` that to simplify making an array without a Python list first, along with other common array-generating commands you find in MATLAB or R (we're also seeing some extra syntax for Python's `print()` function below -- don't worry about it; it's just to make the notebook output for understandable):"
   ]
  },
  {
   "cell_type": "code",
   "execution_count": null,
   "metadata": {},
   "outputs": [],
   "source": [
    "print('np.arange(5)        = %s' %np.arange(5))         # Array of 5 sequential integers.\n",
    "print('np.zeros(5)         = %s' %np.zeros(5))          # Array of 5 zeros.\n",
    "print('np.zeros_like(myarr1)         = %s' %np.zeros_like(myarr1))          # Array like arr1, with zeros.\n",
    "print('np.ones(5)          = %s' %np.ones(5))           # Array of 5 ones.\n",
    "print('np.ones_like(myarr1)         = %s' %np.ones_like(myarr1))          # Array like arr1, with ones.\n",
    "print('np.empty(5)         = %s' %np.empty(5))          # Array of 5... whatever was sitting in memory.\n",
    "print('np.empty_like(myarr1)         = %s' %np.empty_like(myarr1))          # Array like arr1, but empty.\n",
    "print('np.linspace(0,10,5) = %s' %np.linspace(0,10,5))  # Length-5 evenly-spaced array from 0 to 10.\n",
    "print('np.logspace(0,2,5) = %s' %np.logspace(0,2,5))    # Length-5 logarithmically-spaced array.\n",
    "#print('np.random.rand(5) = %s' %np.random.rand(5))    # Length-5 random numbers drawn uniformly from [0,1)."
   ]
  },
  {
   "cell_type": "markdown",
   "metadata": {},
   "source": [
    "All of the above arrays have been 1D -- you access their elements just like you do in Python lists with only one index (including negative indices). "
   ]
  },
  {
   "cell_type": "code",
   "execution_count": null,
   "metadata": {},
   "outputs": [],
   "source": [
    "print(\"myarr1[2] = \",myarr1[2])\n",
    "print(\"myarr1[-1] = \",myarr1[-1])"
   ]
  },
  {
   "cell_type": "markdown",
   "metadata": {},
   "source": [
    "#### dtypes\n",
    "\n",
    "Unlike lists, Numpy arrays *MUST* have elements that are all of the same type.  The type is reflected in an array attribute `dtype` (`dtype`s themselves have some further complexity that is beyond our scope today).  You can see that the array we created earlier consists of 64-bit integers:"
   ]
  },
  {
   "cell_type": "code",
   "execution_count": null,
   "metadata": {
    "scrolled": true
   },
   "outputs": [],
   "source": [
    "print(myarr1.dtype)"
   ]
  },
  {
   "cell_type": "markdown",
   "metadata": {},
   "source": [
    "If we had wanted to make a version where those same numbers were stored as floats, we would only have had to include a single float in the original list out of which we built the array (and then everything would be \"upcast\" to a float):"
   ]
  },
  {
   "cell_type": "code",
   "execution_count": null,
   "metadata": {},
   "outputs": [],
   "source": [
    "myarr3 = np.array([20.0, 21, 22, 23, 24, 25, 26, 27, 28, 29, 30])\n",
    "print(myarr3, myarr3.dtype)"
   ]
  },
  {
   "cell_type": "markdown",
   "metadata": {},
   "source": [
    "And of course, the `linspace` and `logspace` examples a few cells up generate arrays of floats by default.\n",
    "\n",
    "There is much more to discuss about NumPy `dtype`s, how to set them, how to leverage them, etc.  But it's all beyond our scope here.  So long as you can work with arrays whose entries are floats or ints, you're ok for this course."
   ]
  },
  {
   "cell_type": "markdown",
   "metadata": {},
   "source": [
    "`dtype`s are, in general, *not* the same as Python types.  They are more akin to C data types.  Numpy makes some default inferences based on what you pass it, but you can set the `dtype` to something else by giving the `dtype` keyword argument to `array()` (and to other commands).\n",
    "\n",
    "Numpy also has attributes that show you the size (`itemsize`, in bytes, 1 byte = 8  bits) of each element and of the total array (`nbytes`), as well as how many elements are in the array (`size = nbytes/itemsize`):"
   ]
  },
  {
   "cell_type": "markdown",
   "metadata": {},
   "source": [
    "#### 2D arrays\n",
    "As mentioned earlier, NumPy arrays lend themselves more naturally to making 2D grids.  Let's see how this works:\n",
    "\n",
    "##### From sequences\n",
    "\n",
    "If you pass the `array()` constructor a sequence of suitably-sized Python lists that would lay out naturally in a grid, it gives you a 2D array (not the difference in visual representation compared to Python lists):"
   ]
  },
  {
   "cell_type": "code",
   "execution_count": null,
   "metadata": {},
   "outputs": [],
   "source": [
    "l2d = [[1,2,3],[4,5,6]]\n",
    "print(l2d, type(l2d))\n",
    "\n",
    "arr2d = np.array([[7,8,9, 10],[11,12,13, 14],[15,16,17,18]])\n",
    "print(arr2d, type(arr2d))"
   ]
  },
  {
   "cell_type": "markdown",
   "metadata": {},
   "source": [
    "Arrays have an attribute `ndim` (accessible by using \"dot notation\" on a variable that references an array) that reflects the dimension.  In Numpy, each dimension is called an **axis** (starting with axis-0, then axis-1), and they indicate the direction you're *moving along* (negative and positive indices shown below):\n",
    "\n",
    "```\n",
    "            -- axis1 -->\n",
    "              -4  -3  -2  -1\n",
    "               0   1   2   3\n",
    "  |          +---+---+---+---+\n",
    "  |    -3, 0 |7  | 8 |  9| 10|\n",
    "  |          +---+---+---+---+\n",
    "axis0  -2, 1 |11 |12 | 13| 14|\n",
    "  |          +---+---+---+---+\n",
    "  |    -1, 2 |15 |16 | 17| 18|\n",
    "  V          +---+---+---+---+\n",
    "  ```"
   ]
  },
  {
   "cell_type": "code",
   "execution_count": null,
   "metadata": {},
   "outputs": [],
   "source": [
    "print(myarr1.ndim)\n",
    "print(arr2d.ndim)"
   ]
  },
  {
   "cell_type": "markdown",
   "metadata": {},
   "source": [
    "#### Array `shape`s\n",
    "\n",
    "The shape of NumPy arrays is specified by what in Python is called a **tuple** (like a list, except you use parentheses rather than square brackets to denote it, and unlike a list, you can't change what's in each slot or change the number of slots).  The entries in the tuple indicate how many entries the array has along each axis.  So, for instance, our 1D array `myarr1` has a shape (11,)  (that's a tuple with only one element in it, the number 11, because we're dealing with a 1D array that has 11 elements).  And our 2D array `arr2d` has shape (3,4)  (that's a tuple with two elements in it, representing the number of entries along axis-0 -- the number of \"rows\" -- and then the number of entries along axis-1 -- the number of \"columns\")."
   ]
  },
  {
   "cell_type": "code",
   "execution_count": null,
   "metadata": {},
   "outputs": [],
   "source": [
    "print(myarr1.shape)\n",
    "print(arr2d.shape)"
   ]
  },
  {
   "cell_type": "markdown",
   "metadata": {},
   "source": [
    "`zeros, ones, empty`, etc can take a shape argument (a tuple of ints) to make 2D (or higher dimension) pre-filled arrays."
   ]
  },
  {
   "cell_type": "code",
   "execution_count": null,
   "metadata": {},
   "outputs": [],
   "source": [
    "print(np.zeros((3,4)))"
   ]
  },
  {
   "cell_type": "markdown",
   "metadata": {},
   "source": [
    "#### Array indexing and slicing\n",
    "Arrays support the same repeated index syntax that nested Python lists do, but they also support a more compact (and preferred) syntax: you can index them with a *tuple of integers* (whether you put the parentheses explicitly or not) inside the `[]`.  You can also do slicing this way.  This is best illustrated with some examples..."
   ]
  },
  {
   "cell_type": "code",
   "execution_count": null,
   "metadata": {},
   "outputs": [],
   "source": [
    "# This is indexing syntax we've already seen for Python nested lists. It works for 2D arrays, too.\n",
    "print(\"l2d[1][2] = \", l2d[1][2])\n",
    "print(\"arr2d[1][2] = \", arr2d[1][2])\n",
    "\n",
    "# However, the preferred syntax for arrays (the form w/o parentheses is far more common) is to pass\n",
    "# a tuple (or a comma-separated list of integers) as the \"index\"\n",
    "print(\"arr2d[(1,2)] = \", arr2d[(1,2)])\n",
    "print(\"arr2d[1,2] = \", arr2d[1,2])\n",
    "\n",
    "# That alternate syntax doesn't work for regular Python lists!\n",
    "# The lines below would give syntax errors if applied to Python lists...\n",
    "# print(\"l2d[1,2] = \", l2d[1,2])\n",
    "# print(\"l2d[(1,2)] = \", l2d[(1,2)])\n",
    "\n",
    "\n",
    "# Slicing (pretty much like with Python lists, but:\n",
    "# * you can put slices for each axis all inside one set of square brackets\n",
    "# * you can mix slicing along one axis and single-index referencing along another\n",
    "print(\"arr2d[:2,2:] = \", arr2d[:2,2:])      # This picks out rows 0 & 1 (along axis-0) and columns 2 & 3 (along axis-1)\n",
    "print(\"arr2d[:,2] = \", arr2d[:,2])          # This picks out column 2 (along axis-1) for all indices along axis-0\n",
    "print(\"arr2d[1,1:] = \", arr2d[1,1:])        # This picks out row 1 (along axis-0) for all indices >1 along axis-1\n",
    "print(\"arr2d[1,1::-1] = \", arr2d[1,1::-1])  # Same, but entries along axis-1 are reversed"
   ]
  },
  {
   "cell_type": "markdown",
   "metadata": {},
   "source": [
    "#### Vectorized operations with arrays\n",
    "\n",
    "Basic arithmetic operations on arrays (+, -, x, /, exponentiation, modular arithmetic) are performed *elementwise*.  The lingo for this is to say that array operations are **vectorized** (that just means they work elementwise by default).\n",
    "\n",
    "So for instance:"
   ]
  },
  {
   "cell_type": "code",
   "execution_count": null,
   "metadata": {},
   "outputs": [],
   "source": [
    "arr01 = np.array([5,6,7,8,9,10])\n",
    "arr02 = np.array([15,26,37,48,59,60])\n",
    "print(arr01 + arr02)\n",
    "print(arr01 - arr02)\n",
    "print(arr01 * arr02)\n",
    "# You get the picture"
   ]
  },
  {
   "cell_type": "markdown",
   "metadata": {},
   "source": [
    "Of course, vectorized (i.e. elementwise) operations require that two arrays have the same shape.  If they don't, NumPy has a sequence of rules called **broadcasting rules** that it uses to try to extend the shape of the array with fewer dimensions in a way that \"makes sense\" so that the vectorized operation can go forward.  How exactly this works is beyond our scope, and in general, you should avoid messing with it until you understand broadcasting much better.\n",
    "\n",
    "There's one exception, however, where broadcasting is easy to understand and highly useful.  If one of the operands is an array and the other is a *scalar*, the scalar operation will just be performed on every element of the array:"
   ]
  },
  {
   "cell_type": "code",
   "execution_count": null,
   "metadata": {},
   "outputs": [],
   "source": [
    "print(\"arr01      =\", arr01)\n",
    "print(\"arr01 + 11 =\", arr01 + 11)"
   ]
  },
  {
   "cell_type": "markdown",
   "metadata": {},
   "source": [
    "#### All NumPy functions are also vectorized\n",
    "Python has a standard library module called `math`, within which you can find standard functions like `sin()`, `cos()`, `exp()`, etc.\n",
    "\n",
    "NumPy also has its own versions of these functions.  What's the difference between, say, `math.cos()` and `np.cos()`?  The former can only accept a single scalar input; the latter can accept a whole array as input, and the `cos()` operation will then be performed on every individual element separately:"
   ]
  },
  {
   "cell_type": "code",
   "execution_count": null,
   "metadata": {
    "scrolled": true
   },
   "outputs": [],
   "source": [
    "inputs = np.linspace(-np.pi, np.pi, 13) # Generate all the values from -pi to pi, jumping by pi/6\n",
    "print(inputs)\n",
    "print(np.cos(inputs)) # Take the cosine of all of them at once"
   ]
  },
  {
   "cell_type": "markdown",
   "metadata": {},
   "source": [
    "#### NumPy \"aggregator\" functions\n",
    "\n",
    "In addition to functions that act in a vectorized way (elementwise) on arrays, NumPy also has a suite of utility functions that return a single scalar summarizing some sort of information across *all* the elements in an array.\n",
    "\n",
    "Here is a non-exhaustive but useful list:\n",
    "\n",
    "```python\n",
    "np.min;           # Return the smallest element in an array\n",
    "np.max;           # Return the largest element in an array\n",
    "np.argmin;        # Return the index of the smallest element in an array\n",
    "np.argmax;        # Return the index of the largest element in an array\n",
    "\n",
    "np.sum;           # Sum of all the elements of an array\n",
    "np.prod;          # Product of all the elements of an array\n",
    "\n",
    "# These don't return a single scalar, rather a running list of intermediate scalars.  See the examples...\n",
    "np.cumsum;        # \"Running\" sum of elements of an array\n",
    "np.cumprod;       # \"Running\" product of elements of an array\n",
    "\n",
    "\n",
    "np.mean;          # Compute the mean of an array in an array\n",
    "np.median;        # Compute the median of an array in an array\n",
    "np.std;           # Compute the standard deviation of an array\n",
    "np.var;           # Compute the variance (sd^2) of an array\n",
    "\n",
    "np.percentile;    # Compute the xth percentile of an array.\n",
    "```\n",
    "\n",
    "These are best illustrated by example:"
   ]
  },
  {
   "cell_type": "code",
   "execution_count": null,
   "metadata": {},
   "outputs": [],
   "source": [
    "myarr3"
   ]
  },
  {
   "cell_type": "code",
   "execution_count": null,
   "metadata": {
    "scrolled": true
   },
   "outputs": [],
   "source": [
    "print(\"Avg  =\", np.mean(myarr3))\n",
    "print(\"Sum  =\", np.sum(myarr3))\n",
    "# This gives sum of just 1st element, then sum of 1st 2 elements, then sum of 1st 3 elements, etc, as an array\n",
    "print(\"Cumsum = \", np.cumsum(myarr3))"
   ]
  },
  {
   "cell_type": "markdown",
   "metadata": {},
   "source": [
    "For multi-dimensional arrays, you can also specify for these aggregator functions the axis along which to do the \"aggregating\".  So, e.g., for a 2D array, if you wanted to sum across the columns to get a total for each row, you would say `np.sum(axis=1)` (because you want to add every new item you encounter as you increment the axis-1 index while leaving your axis-0 index fixed)."
   ]
  },
  {
   "cell_type": "markdown",
   "metadata": {},
   "source": [
    "**HERE'S WHAT'S REALLY NEAT:** these \"aggregator\" functions are also available as **methods** of each array (a *method* is just a function that is \"attached\" to a data object, so that when it's invoked -- via dot notation -- no main argument needs to be supplied, because the method \"knows\" it's supposed to act on the object that it's attached to.  Python magic, under the hood).\n",
    "\n",
    "This allows for a very compact notation that we will leverage in the exercises to do a lot of work in very few lines of code:"
   ]
  },
  {
   "cell_type": "code",
   "execution_count": null,
   "metadata": {},
   "outputs": [],
   "source": [
    "print(\"Avg  =\", myarr3.mean())\n",
    "print(\"Sum  =\", myarr3.sum())\n",
    "print(\"Cumsum = \", myarr3.cumsum())"
   ]
  },
  {
   "cell_type": "markdown",
   "metadata": {},
   "source": [
    "#### Boolean comparisons are also vectorized!!\n",
    "\n",
    "This is one of the most useful things about numpy arrays.  Consider an expression like `x > 6.5`, where is just a scalar.  It evaluates to either True or False.  What about if `x` is an array?  In that case, the expression evaluates to *an array of the same shape as `x`*, with True wherever the condition held, and False where it did not..."
   ]
  },
  {
   "cell_type": "code",
   "execution_count": null,
   "metadata": {},
   "outputs": [],
   "source": [
    "print(arr01)\n",
    "print(arr01 > 6.5)"
   ]
  },
  {
   "cell_type": "markdown",
   "metadata": {},
   "source": [
    "In addition, numpy (and Python in general) will, in the right context, treat True as the number 1 and False as the number zero.  This fact allows you to do things like, e.g., count how many values in an array are above 6.5 fairly easily:"
   ]
  },
  {
   "cell_type": "code",
   "execution_count": null,
   "metadata": {},
   "outputs": [],
   "source": [
    "np.sum(arr01 > 6.5) # Will return the number of entries in arr01 above 6.5"
   ]
  }
 ],
 "metadata": {
  "kernelspec": {
   "display_name": "Python 3",
   "language": "python",
   "name": "python3"
  },
  "language_info": {
   "codemirror_mode": {
    "name": "ipython",
    "version": 3
   },
   "file_extension": ".py",
   "mimetype": "text/x-python",
   "name": "python",
   "nbconvert_exporter": "python",
   "pygments_lexer": "ipython3",
   "version": "3.8.3"
  }
 },
 "nbformat": 4,
 "nbformat_minor": 4
}
