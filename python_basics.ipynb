{
 "cells": [
  {
   "cell_type": "markdown",
   "metadata": {},
   "source": [
    "## Python basics\n",
    "\n",
    "### Import statements and variables\n",
    "\n",
    "Let's start by checking our version of Python.  Yours may differ, but so long as it's Python 3.6 or higher, you should be fine."
   ]
  },
  {
   "cell_type": "code",
   "execution_count": null,
   "metadata": {},
   "outputs": [],
   "source": [
    "import sys\n",
    "print(sys.version)"
   ]
  },
  {
   "cell_type": "markdown",
   "metadata": {},
   "source": [
    "Let's dissect what's in the above cell, to get our general Python bearings.\n",
    "```python\n",
    "import sys\n",
    "```\n",
    "What is the point of this line?  Well, Python has a bunch of features, constructs, variables, data types, and functions that are built-in to the language itself.  And to invoke them, we just type their names.  For example, the function `print()` is part of the Python language.\n",
    "\n",
    "But what's in the bare Python language is rarely enough to do most work.  So Python gives us the ability to write our own functions, variables, and data types, putting their definitions in files called \"modules\". A bunch of those modules are bundled into what's called the \"Python standard library\" and are installed automatically when you install Python. `sys` is part of the standard library.\n",
    "\n",
    "To access a function or variable (or whatever construct) that is defined only inside a module (rather than being part of the Python languague itself), we use Python's `import` statement.  The line\n",
    "```python\n",
    "import sys\n",
    "```\n",
    "makes the curent Python session aware of everything defined inside the `sys` module and gives us access to it. For instance, the `sys` module defines a variable called `version`, which is a long string giving information about what version of Python this is, when it was built, and what compiler was used to build it (in this case, GCC version 7.3.0).  The syntax for referencing the `version` variable found inside `sys` is the \"dot notation\":  `sys.version`.\n",
    "\n",
    "What if we wanted to make a new variable also called `version` that we define ourselves in this notebook session and had a completely unrelated meaning and value?  For instance,\n",
    "```python\n",
    "version = 'my own version variable'\n",
    "```\n",
    "How would Python tell the difference between the two versions of `version`? \"Dot notation\" to the rescue:"
   ]
  },
  {
   "cell_type": "code",
   "execution_count": null,
   "metadata": {
    "scrolled": true
   },
   "outputs": [],
   "source": [
    "version = 'my own version variable'\n",
    "print('Regular version =', version)\n",
    "print('The one inside sys =', sys.version)"
   ]
  },
  {
   "cell_type": "markdown",
   "metadata": {},
   "source": [
    "As you can see, Python interprets any reference to `version` as a variable we ourselves defined in the current session (assuming we've done so -- if we haven't, it will give us an error indicating that there is no variable named `version`).  The `version` variable associated with `sys` is referenced as `sys.version`.\n",
    "\n",
    "Note that the syntax for creating a variable and assigning it a value is just to use the `=` operator (i.e., the **assignment operator**).  Any time you create an object that you'd like to hang onto and make reference to later, you must assign it to a variable.  Otherwise, without a *name* to refer to it by, the object ceases to exist.\n",
    "\n",
    "We also see here some new and fairly self-explanatory syntax for how the `print()` function works."
   ]
  },
  {
   "cell_type": "markdown",
   "metadata": {},
   "source": [
    "### Python lists\n",
    "\n",
    "Python has several built-in \"container\" objects.  One of those is called a **list**.  Here, we review a few basic features of Python lists in case you encounter list-based examples in the course, and also to help us understand later how NumPy arrays (the sort of \"container\" we will mainly employ) differ from vanilla Python lists."
   ]
  },
  {
   "cell_type": "markdown",
   "metadata": {},
   "source": [
    "#### Creating lists\n",
    "To create a list, you put a comma-separated list of values inside square brackets (and we should assign our list to a variable, so we can reference it later):"
   ]
  },
  {
   "cell_type": "code",
   "execution_count": null,
   "metadata": {},
   "outputs": [],
   "source": [
    "# The elements of a list can be of mixed data types. Here we have an int, a str, a float, and a bool in a single list.\n",
    "mylist = [17, 'Dumbledore', 3.14159, False]"
   ]
  },
  {
   "cell_type": "markdown",
   "metadata": {},
   "source": [
    "Note the line starting with `#`.  The pound sign or hashtag is the **comment character** in Python.  As soon as you hit a `#` on a line, everything after that point on the line is treated as a comment rather than as Python code."
   ]
  },
  {
   "cell_type": "markdown",
   "metadata": {},
   "source": [
    "####  Accessing list elements\n",
    "We can access elements of the list using their **index** (in Python, all containers begin indexing at 0 rather than at 1) and the following syntax:"
   ]
  },
  {
   "cell_type": "code",
   "execution_count": null,
   "metadata": {},
   "outputs": [],
   "source": [
    "print(mylist[0])\n",
    "print(mylist[2])\n",
    "# Negative indexing stars from the back of the list\n",
    "print(mylist[-1])"
   ]
  },
  {
   "cell_type": "code",
   "execution_count": null,
   "metadata": {},
   "outputs": [],
   "source": [
    "# Go out of bounds on the right and you'll get an IndexError\n",
    "print(mylist[4]) # The indices only run 0 through 3, so the index 4 is an error"
   ]
  },
  {
   "cell_type": "code",
   "execution_count": null,
   "metadata": {
    "scrolled": true
   },
   "outputs": [],
   "source": [
    "# Negative indices that go too far left will also cause an IndexError\n",
    "print(mylist[-4]) # This is the same as mylist[0]...\n",
    "print(mylist[-5]) # ...but this goes too far left"
   ]
  },
  {
   "cell_type": "markdown",
   "metadata": {},
   "source": [
    "We can change list values by assigning to list elements..."
   ]
  },
  {
   "cell_type": "code",
   "execution_count": null,
   "metadata": {},
   "outputs": [],
   "source": [
    "mylist[0] = -2.2\n",
    "print(mylist)"
   ]
  },
  {
   "cell_type": "markdown",
   "metadata": {},
   "source": [
    "You can also make a list longer or shorter (i.e. the length of a list is mutable), but explaining that is beyond our scope in this primer."
   ]
  },
  {
   "cell_type": "markdown",
   "metadata": {},
   "source": [
    "#### \"Slicing\"\n",
    "Python allows you to select sublists within a list using something called \"slicing notation\":"
   ]
  },
  {
   "cell_type": "code",
   "execution_count": null,
   "metadata": {},
   "outputs": [],
   "source": [
    "# First let's make a longer list by showing you an alternate way to construct a list:\n",
    "# invoke the list() command and feed it anything that Python recognizes as a sequence.\n",
    "# In this case, we will make a list of individual characters\n",
    "longerlist = list('Rumplestiltskin')\n",
    "print(longerlist)"
   ]
  },
  {
   "cell_type": "code",
   "execution_count": null,
   "metadata": {
    "scrolled": true
   },
   "outputs": [],
   "source": [
    "# Let's see slicing notation using examples\n",
    "print(longerlist[2:6])      # Prints the sublist starting at index 2 up to *but not including* index 6\n",
    "print(longerlist[:6])       # If the start index is omitted, it is assumed to be 0\n",
    "print(longerlist[2:])       # If the end index is omitted, it is assumed to go through the end of the list\n",
    "print(longerlist[:])        # If both are omitted, you get the whole list\n",
    "print(longerlist[2:11:3])   # You can add an optional \"step\" argument to, e.g., skip by 3s\n",
    "print(longerlist[11:2:-1])  # A negative step AND an end less than the start reverses the order\n",
    "print(longerlist[-4:2:-1])  # A version of the above using a negative index"
   ]
  },
  {
   "cell_type": "markdown",
   "metadata": {},
   "source": [
    "#### Nested lists\n",
    "You can create something like a 2D grid by making a list of lists.  To access and change elements (or slice), you need to index twice:"
   ]
  },
  {
   "cell_type": "code",
   "execution_count": null,
   "metadata": {},
   "outputs": [],
   "source": [
    "my2Dgrid = [[0, 10, 20, 30], [40, 50, 60, 70], [80, 90, 100, 110]]\n",
    "print(my2Dgrid)"
   ]
  },
  {
   "cell_type": "code",
   "execution_count": null,
   "metadata": {},
   "outputs": [],
   "source": [
    "# This will give 60 -- the 'index-1' element of my2Dgrid is the list [40,50,60,70], and the 'index-2' element of that\n",
    "# list is 60\n",
    "print(my2Dgrid[1][2])"
   ]
  },
  {
   "cell_type": "code",
   "execution_count": null,
   "metadata": {},
   "outputs": [],
   "source": [
    "# This will give the list [90, 100, 110] -- make sure you understand why\n",
    "print(my2Dgrid[2][1:])"
   ]
  },
  {
   "cell_type": "markdown",
   "metadata": {},
   "source": [
    "We will close this section on lists by mentioning that nested lists are **not** the preferred way to create 2D arrays for computational work.  The NumPy array is the much better tool for that purpose, and we will introduce it shortly."
   ]
  },
  {
   "cell_type": "markdown",
   "metadata": {},
   "source": [
    "#### List comprehensions\n",
    "Sometimes, you want to build a list by looping.  Python has an efficient structure for doing this called a **list comprehension** -- in essence, you put a `for` loop instruction *inside* the list brackets.\n",
    "\n",
    "This is best illustrated with an example.  But first, note that in Python, if you want to loop a fixed number $N$ of times, the construct for that is to write:  `for i in range(N)` (where the temporary variable `i` will assume the values from 0 through $N-1$ one at a time.\n",
    "\n",
    "So here's how a list comprehension works.  Say I want to build a list of the first 10 perfect squares (including 0-squared):"
   ]
  },
  {
   "cell_type": "code",
   "execution_count": null,
   "metadata": {},
   "outputs": [],
   "source": [
    "squares = [i**2 for i in range(10)]\n",
    "squares # This line is here just so you see the output"
   ]
  },
  {
   "cell_type": "markdown",
   "metadata": {},
   "source": [
    "### The `random` module in the standard library\n",
    "Python has a standard library module called `random`.  It contains some utility functions for, e.g., generating random numbers uniformly from the interval \\[0,1\\), drawing random samples from a standard normal distribution, etc.\n",
    "\n",
    "While it is possible to combine the `random` module with Python lists to do some of the work in this course, NumPy arrays are really the preferred tool.  we mention the `random` module just in the interest of completeness.\n",
    "\n",
    "Let's turn to NumPy now..."
   ]
  },
  {
   "cell_type": "code",
   "execution_count": null,
   "metadata": {},
   "outputs": [],
   "source": [
    "import numpy as np\n",
    "print(np.version.version)"
   ]
  }
 ],
 "metadata": {
  "kernelspec": {
   "display_name": "Python 3",
   "language": "python",
   "name": "python3"
  },
  "language_info": {
   "codemirror_mode": {
    "name": "ipython",
    "version": 3
   },
   "file_extension": ".py",
   "mimetype": "text/x-python",
   "name": "python",
   "nbconvert_exporter": "python",
   "pygments_lexer": "ipython3",
   "version": "3.8.3"
  }
 },
 "nbformat": 4,
 "nbformat_minor": 4
}
